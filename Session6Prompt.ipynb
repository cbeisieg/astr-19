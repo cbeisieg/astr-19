{
 "cells": [
  {
   "cell_type": "code",
   "execution_count": 11,
   "id": "15ff3a21",
   "metadata": {},
   "outputs": [],
   "source": [
    "import numpy as np"
   ]
  },
  {
   "cell_type": "markdown",
   "id": "51cdbb35",
   "metadata": {},
   "source": [
    "This is where I import numpy"
   ]
  },
  {
   "cell_type": "code",
   "execution_count": 12,
   "id": "23014af3",
   "metadata": {},
   "outputs": [],
   "source": [
    "def sin_function(x):\n",
    "    return np.sin(x)"
   ]
  },
  {
   "cell_type": "markdown",
   "id": "8814ae61",
   "metadata": {},
   "source": [
    "This defines the np.sin(x) function and lets me return it"
   ]
  },
  {
   "cell_type": "code",
   "execution_count": 13,
   "id": "78959898",
   "metadata": {},
   "outputs": [],
   "source": [
    "def cos_function(x):\n",
    "    return np.cos(x)"
   ]
  },
  {
   "cell_type": "markdown",
   "id": "a6f1d726",
   "metadata": {},
   "source": [
    "This defines the np.cos(x) function and lets me return it"
   ]
  },
  {
   "cell_type": "code",
   "execution_count": 14,
   "id": "f805185f",
   "metadata": {},
   "outputs": [],
   "source": [
    "x_values = np.linspace(0, 2 * np.pi, 1000)\n",
    "\n",
    "sin_values = [sin_function(x) for x in x_values]\n",
    "cos_values = [cos_function(x) for x in x_values]"
   ]
  },
  {
   "cell_type": "markdown",
   "id": "4175b2c5",
   "metadata": {},
   "source": [
    "This first generates the 1000 values between 0 and 2pi using linspace, then it stores the sin values and cos values for all x values from linspace by calling the cos and sin functions."
   ]
  },
  {
   "cell_type": "code",
   "execution_count": null,
   "id": "3ebd1580",
   "metadata": {},
   "outputs": [],
   "source": [
    "print(\"x\", \"sin(x)\", \"cos(x)\")\n",
    "for i in range(10):\n",
    "  print(x_values[i], sin_values[i], cos_values[i])"
   ]
  },
  {
   "cell_type": "markdown",
   "id": "5ad2f836",
   "metadata": {},
   "source": [
    "This first prints the headers for x, sin(x), and cos(x). Then it uses a for loop for i in range 10, then prints out all the x, sin, and cos values for i's range."
   ]
  }
 ],
 "metadata": {
  "kernelspec": {
   "display_name": "Python 3",
   "language": "python",
   "name": "python3"
  },
  "language_info": {
   "codemirror_mode": {
    "name": "ipython",
    "version": 3
   },
   "file_extension": ".py",
   "mimetype": "text/x-python",
   "name": "python",
   "nbconvert_exporter": "python",
   "pygments_lexer": "ipython3",
   "version": "3.14.0"
  }
 },
 "nbformat": 4,
 "nbformat_minor": 5
}
